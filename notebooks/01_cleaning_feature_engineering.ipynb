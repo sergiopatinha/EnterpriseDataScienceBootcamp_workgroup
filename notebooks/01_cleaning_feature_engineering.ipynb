{
 "cells": [
  {
   "cell_type": "markdown",
   "id": "1d087072",
   "metadata": {},
   "source": [
    "Objetivo do Notebook 01\n",
    "- Unificar as tabelas (se necessário) e padronizar chaves (CustomerID).\n",
    "- Limpar: tipos, duplicates, missing values, strings.\n",
    "- Preparar features: encoding, scaling e guardar o dataset limpo + metadados.\n",
    "- Validação rápida com um baseline (LogReg) para garantir que o pipeline funciona."
   ]
  },
  {
   "cell_type": "code",
   "execution_count": null,
   "id": "1344c3ef",
   "metadata": {},
   "outputs": [],
   "source": [
    "import os, json, re\n",
    "import numpy as np\n",
    "import pandas as pd"
   ]
  },
  {
   "cell_type": "code",
   "execution_count": null,
   "id": "efd28680",
   "metadata": {},
   "outputs": [],
   "source": [
    "DATA_DIR = os.path.join('..', 'data')\n",
    "RAW_MERGED_CSV = os.path.join(DATA_DIR, 'Telco_customer_churn_merged.csv')\n",
    "CLEAN_CSV = os.path.join(DATA_DIR, 'telco_churn_clean.csv')\n",
    "FEATURES_META = os.path.join(DATA_DIR, 'features.json')\n",
    "\n",
    "USE_RAW_EXCELS = False\n",
    "FILES = {\n",
    "    'demographics': 'Telco_customer_churn_demographics.xlsx',\n",
    "    'location':     'Telco_customer_churn_location.xlsx',\n",
    "    'population':   'Telco_customer_churn_population.xlsx',\n",
    "    'services':     'Telco_customer_churn_services.xlsx',\n",
    "    'status':       'Telco_customer_churn_status.xlsx',\n",
    "}\n"
   ]
  }
 ],
 "metadata": {
  "language_info": {
   "name": "python"
  }
 },
 "nbformat": 4,
 "nbformat_minor": 5
}
