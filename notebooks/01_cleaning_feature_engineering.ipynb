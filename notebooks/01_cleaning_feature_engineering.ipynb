{
 "cells": [
  {
   "cell_type": "markdown",
   "id": "1d087072",
   "metadata": {},
   "source": [
    "Objetivo do Notebook 01\n",
    "- Unificar as tabelas (se necessário) e padronizar chaves (CustomerID).\n",
    "- Limpar: tipos, duplicates, missing values, strings.\n",
    "- Preparar features: encoding, scaling e guardar o dataset limpo + metadados.\n",
    "- Validação rápida com um baseline (LogReg) para garantir que o pipeline funciona."
   ]
  },
  {
   "cell_type": "markdown",
   "id": "fbb3355d",
   "metadata": {},
   "source": [
    "1. Importing the libraries/functions:"
   ]
  },
  {
   "cell_type": "code",
   "execution_count": 4,
   "id": "1344c3ef",
   "metadata": {},
   "outputs": [],
   "source": [
    "import pandas as pd\n",
    "import sys, numpy as np\n",
    "import os, json, re\n",
    "from pathlib import Path\n",
    "from sklearn.impute import SimpleImputer"
   ]
  },
  {
   "cell_type": "markdown",
   "id": "75411094",
   "metadata": {},
   "source": [
    "2. Paths and names of the files"
   ]
  },
  {
   "cell_type": "markdown",
   "id": "7216c406",
   "metadata": {},
   "source": [
    "XX. Saving the clean data frame"
   ]
  },
  {
   "cell_type": "code",
   "execution_count": null,
   "id": "ba2de78e",
   "metadata": {},
   "outputs": [],
   "source": [
    "save_df(df_clean, name=\"telco_master_clean\", stage=\"processed\", fmt=\"parquet\")"
   ]
  }
 ],
 "metadata": {
  "kernelspec": {
   "display_name": ".venv",
   "language": "python",
   "name": "python3"
  },
  "language_info": {
   "codemirror_mode": {
    "name": "ipython",
    "version": 3
   },
   "file_extension": ".py",
   "mimetype": "text/x-python",
   "name": "python",
   "nbconvert_exporter": "python",
   "pygments_lexer": "ipython3",
   "version": "3.13.7"
  }
 },
 "nbformat": 4,
 "nbformat_minor": 5
}
