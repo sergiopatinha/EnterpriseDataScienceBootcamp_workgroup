{
 "cells": [
  {
   "cell_type": "markdown",
   "id": "1d087072",
   "metadata": {},
   "source": [
    "Objetivo do Notebook 01\n",
    "- Unificar as tabelas (se necessário) e padronizar chaves (CustomerID).\n",
    "- Limpar: tipos, duplicates, missing values, strings.\n",
    "- Preparar features: encoding, scaling e guardar o dataset limpo + metadados.\n",
    "- Validação rápida com um baseline (LogReg) para garantir que o pipeline funciona."
   ]
  },
  {
   "cell_type": "markdown",
   "id": "a417c120",
   "metadata": {},
   "source": []
  },
  {
   "cell_type": "code",
   "execution_count": null,
   "id": "efd28680",
   "metadata": {},
   "outputs": [],
   "source": []
  }
 ],
 "metadata": {
  "language_info": {
   "name": "python"
  }
 },
 "nbformat": 4,
 "nbformat_minor": 5
}
