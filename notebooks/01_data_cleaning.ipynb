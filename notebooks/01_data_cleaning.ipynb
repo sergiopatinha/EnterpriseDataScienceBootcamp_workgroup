{
 "cells": [
  {
   "cell_type": "markdown",
   "id": "1d087072",
   "metadata": {},
   "source": [
    "Notebook 01 Goals:\n",
    "Combine and clean the raw datasets into one consistent dataset ready for EDA (exploratory analysis).\n",
    "This includes:\n",
    "    - Loading all raw datasets\n",
    "    - Normalizing identifiers (like CustomerID)\n",
    "    - Merging the tables correctly\n",
    "    - Handling missing values and data types\n",
    "    - Saving the cleaned dataset to data/interim/"
   ]
  },
  {
   "cell_type": "markdown",
   "id": "fbb3355d",
   "metadata": {},
   "source": [
    "1. Importing the libraries/functions:"
   ]
  },
  {
   "cell_type": "code",
   "execution_count": 1,
   "id": "1344c3ef",
   "metadata": {},
   "outputs": [],
   "source": [
    "import pandas as pd\n",
    "import sys, numpy as np\n",
    "import os, json, re\n",
    "from pathlib import Path\n",
    "from sklearn.impute import SimpleImputer\n"
   ]
  },
  {
   "cell_type": "markdown",
   "id": "75411094",
   "metadata": {},
   "source": [
    "2. Paths and names of the files"
   ]
  },
  {
   "cell_type": "markdown",
   "id": "7216c406",
   "metadata": {},
   "source": [
    "XX. Saving the clean data frame"
   ]
  },
  {
   "cell_type": "code",
   "execution_count": 2,
   "id": "ba2de78e",
   "metadata": {},
   "outputs": [
    {
     "ename": "NameError",
     "evalue": "name 'save_df' is not defined",
     "output_type": "error",
     "traceback": [
      "\u001b[31m---------------------------------------------------------------------------\u001b[39m",
      "\u001b[31mNameError\u001b[39m                                 Traceback (most recent call last)",
      "\u001b[36mCell\u001b[39m\u001b[36m \u001b[39m\u001b[32mIn[2]\u001b[39m\u001b[32m, line 1\u001b[39m\n\u001b[32m----> \u001b[39m\u001b[32m1\u001b[39m \u001b[43msave_df\u001b[49m(df_clean, name=\u001b[33m\"\u001b[39m\u001b[33mtelco_master_clean\u001b[39m\u001b[33m\"\u001b[39m, stage=\u001b[33m\"\u001b[39m\u001b[33mprocessed\u001b[39m\u001b[33m\"\u001b[39m, fmt=\u001b[33m\"\u001b[39m\u001b[33mparquet\u001b[39m\u001b[33m\"\u001b[39m)\n",
      "\u001b[31mNameError\u001b[39m: name 'save_df' is not defined"
     ]
    }
   ],
   "source": [
    "save_df(df_clean, name=\"telco_master_clean\", stage=\"processed\", fmt=\"parquet\")"
   ]
  }
 ],
 "metadata": {
  "kernelspec": {
   "display_name": "venv",
   "language": "python",
   "name": "python3"
  },
  "language_info": {
   "codemirror_mode": {
    "name": "ipython",
    "version": 3
   },
   "file_extension": ".py",
   "mimetype": "text/x-python",
   "name": "python",
   "nbconvert_exporter": "python",
   "pygments_lexer": "ipython3",
   "version": "3.13.7"
  }
 },
 "nbformat": 4,
 "nbformat_minor": 5
}
